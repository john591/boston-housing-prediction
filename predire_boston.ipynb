{
 "cells": [
  {
   "cell_type": "code",
   "execution_count": 1,
   "id": "fb38d681-c56f-4c6f-8796-ca2a1af74762",
   "metadata": {},
   "outputs": [
    {
     "name": "stdout",
     "output_type": "stream",
     "text": [
      "Valeur prédite : 23.34 milliers de dollars\n"
     ]
    }
   ],
   "source": [
    "# predict_boston.py\n",
    "import joblib\n",
    "import pandas as pd\n",
    "\n",
    "# Charger le modèle\n",
    "model = joblib.load('modele_boston.pkl')\n",
    "\n",
    "# Exemple de nouvelle entrée\n",
    "new_data = pd.DataFrame([{\n",
    "    'CRIM': 0.1, 'ZN': 0.0, 'INDUS': 8.0, 'CHAS': 0, 'NOX': 0.5,\n",
    "    'RM': 6.0, 'AGE': 65.0, 'DIS': 4.0, 'RAD': 4, 'TAX': 300,\n",
    "    'PTRATIO': 18.0, 'B': 390.0, 'LSTAT': 10.0\n",
    "}])\n",
    "\n",
    "# Prédire\n",
    "prediction = model.predict(new_data)\n",
    "print(f\"Valeur prédite : {prediction[0]:.2f} milliers de dollars\")\n"
   ]
  },
  {
   "cell_type": "code",
   "execution_count": null,
   "id": "9e2b21ef-8134-4205-bee5-0c5ed51a6ae4",
   "metadata": {},
   "outputs": [],
   "source": []
  }
 ],
 "metadata": {
  "kernelspec": {
   "display_name": "Python 3 (ipykernel)",
   "language": "python",
   "name": "python3"
  },
  "language_info": {
   "codemirror_mode": {
    "name": "ipython",
    "version": 3
   },
   "file_extension": ".py",
   "mimetype": "text/x-python",
   "name": "python",
   "nbconvert_exporter": "python",
   "pygments_lexer": "ipython3",
   "version": "3.12.7"
  }
 },
 "nbformat": 4,
 "nbformat_minor": 5
}
